{
 "cells": [
  {
   "attachments": {},
   "cell_type": "markdown",
   "metadata": {},
   "source": [
    "<b> Saturating instances on new structure declaration </b>\n",
    "\n",
    "When a new structure S_new is created, the instances of factories that the new structure implements are not recorded in the database, instead they are in the coq databse. We want to get the list of factories attached to S_new and create properly the instances that implements those factories with the new structure.\n",
    "\n",
    "See the test file tests/instance_before_structure.v for an example\n",
    "\n"
   ]
  },
  {
   "attachments": {},
   "cell_type": "markdown",
   "metadata": {},
   "source": [
    "functions get-canonical-instances and get canonical-structures let us interact with the coq database "
   ]
  },
  {
   "cell_type": "code",
   "execution_count": null,
   "metadata": {
    "vscode": {
     "languageId": "plaintext"
    }
   },
   "outputs": [],
   "source": [
    "1) has-mixin-instance CS-pattern mixinname inst.\n",
    "2) mixin-src {{list lp:X}} {{hasmx}} {{i: eq I}} :- coq unification X eqType I (with X = sort I)\n",
    "3) has-struct-instance CS-KEY class."
   ]
  },
  {
   "attachments": {},
   "cell_type": "markdown",
   "metadata": {},
   "source": [
    "To create the list of booleans we need to have the section paramaters from the instance definition passed down through the clauses, so the information is saved in the database. \n",
    "\n",
    "- This list of booleans is created by sect-params-in-term which given a list of section parameters SP and a term T, returns a list of boolean corresponding to whether or not a parameter in SP appears in T.\n",
    "\n",
    "- This information is crucial in creating the right clauses to saturate the right instances later.\n",
    "\n",
    "We'll also need later to add parameters from user-created section by interrogating the coq database."
   ]
  }
 ],
 "metadata": {
  "language_info": {
   "name": "python"
  },
  "orig_nbformat": 4
 },
 "nbformat": 4,
 "nbformat_minor": 2
}
